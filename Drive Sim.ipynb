{
 "cells": [
  {
   "cell_type": "code",
   "execution_count": null,
   "metadata": {},
   "outputs": [],
   "source": [
    "import numpy as np\n",
    "import matplotlib.pyplot as plt"
   ]
  },
  {
   "cell_type": "code",
   "execution_count": null,
   "metadata": {},
   "outputs": [],
   "source": [
    "np.array([0,3,-3]).clip(-1,1)"
   ]
  },
  {
   "cell_type": "code",
   "execution_count": null,
   "metadata": {},
   "outputs": [],
   "source": [
    "class Robot:\n",
    "    def __init__(self):\n",
    "        self.mass = np.array([1.3, 1.4, 0.7])\n",
    "        self.pos = np.array([0.0, 0.0, 0.0])\n",
    "        self.vel = np.array([0.0, 0.0, 0.0])\n",
    "        self.drag = np.array([-0.1, -0.2, -0.4])\n",
    "\n",
    "\n",
    "    def sim(self, power, dt):\n",
    "        power = power.clip(-1, 1)\n",
    "        a = power / self.mass\n",
    "        v = self.vel + a * dt\n",
    "        vdir = np.sign(v)\n",
    "        dr = self.drag * np.sign(vdir)\n",
    "        v += dr * dt\n",
    "        dswitch = np.sign(v) != vdir\n",
    "        v[dswitch] = 0\n",
    "        self.vel = v\n",
    "\n",
    "        self.pos += v * dt"
   ]
  },
  {
   "cell_type": "code",
   "execution_count": null,
   "metadata": {},
   "outputs": [],
   "source": [
    "def sim(robot, driver, t, n):\n",
    "    dt = t / n\n",
    "    traj = np.empty((n, 6))\n",
    "    traj[0, :3] = robot.pos\n",
    "    traj[0, 3:] = robot.vel\n",
    "\n",
    "    for i in range(1, n):\n",
    "        robot.sim(driver.get_power(robot.pos, robot.vel), dt)\n",
    "        traj[i, :3] = robot.pos\n",
    "        traj[i, 3:] = robot.vel\n",
    "\n",
    "    return traj"
   ]
  },
  {
   "cell_type": "code",
   "execution_count": null,
   "metadata": {},
   "outputs": [],
   "source": [
    "def plot_traj(traj, num_arrows):\n",
    "    x, y = traj[:, 0], traj[:, 1]\n",
    "\n",
    "    stride = traj.shape[0] // num_arrows\n",
    "    s = traj[::stride, :]\n",
    "    qx, qy = s[:, 0], s[:, 1]\n",
    "    vu, vv = s[:, 3], s[:, 4]\n",
    "    hu, hv = np.cos(s[:, 2]), np.sin(s[:, 2])\n",
    "\n",
    "    plt.figure(figsize=(6, 6))\n",
    "\n",
    "    plt.plot(x, y)\n",
    "    plt.quiver(qx, qy, vu, vv, angles='xy', color='blue', label='velocity')\n",
    "    plt.quiver(qx, qy, hu, hv, angles='xy', color='green', label='head')\n",
    "\n",
    "    plt.legend()\n",
    "\n",
    "    plt.show()"
   ]
  },
  {
   "cell_type": "code",
   "execution_count": null,
   "metadata": {},
   "outputs": [],
   "source": [
    "class SimpleDriveToPoint:\n",
    "    def __init__(self, tgt_pos):\n",
    "        self.tgt_pos = tgt_pos\n",
    "\n",
    "        self.p = np.array([1.0, 1.0, 1.0])\n",
    "\n",
    "\n",
    "    def get_power(self, pos, vel):\n",
    "        return self.p * (self.tgt_pos - pos)"
   ]
  },
  {
   "cell_type": "code",
   "execution_count": null,
   "metadata": {},
   "outputs": [],
   "source": [
    "r = Robot()\n",
    "d = SimpleDriveToPoint(np.array([3.0, 2.0, 1.0]))\n",
    "traj = sim(r, d, t=30, n=300)\n",
    "plot_traj(traj, 12)"
   ]
  }
 ],
 "metadata": {
  "kernelspec": {
   "display_name": "Python 3",
   "language": "python",
   "name": "python3"
  },
  "language_info": {
   "codemirror_mode": {
    "name": "ipython",
    "version": 3
   },
   "file_extension": ".py",
   "mimetype": "text/x-python",
   "name": "python",
   "nbconvert_exporter": "python",
   "pygments_lexer": "ipython3",
   "version": "3.12.9"
  }
 },
 "nbformat": 4,
 "nbformat_minor": 2
}
