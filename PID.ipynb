{
 "cells": [
  {
   "cell_type": "code",
   "execution_count": 1,
   "metadata": {},
   "outputs": [],
   "source": [
    "from math import exp, log\n",
    "import numpy as np\n",
    "import pandas as pd\n",
    "import matplotlib.pyplot as plt\n",
    "import scipy.optimize as opt\n",
    "from subprocess import run"
   ]
  },
  {
   "cell_type": "code",
   "execution_count": 2,
   "metadata": {},
   "outputs": [],
   "source": [
    "max_speed = 20\n",
    "max_accel = 12\n",
    "min_accel = -max_accel\n",
    "dt = 3 / 1000\n",
    "tgt_x = -60\n",
    "noise = 0.2\n",
    "drag = 0.8"
   ]
  },
  {
   "cell_type": "code",
   "execution_count": 3,
   "metadata": {},
   "outputs": [],
   "source": [
    "def sign(x):\n",
    "    if x < 0:\n",
    "        return -1\n",
    "    elif x > 0:\n",
    "        return 1\n",
    "    else:\n",
    "        return 0"
   ]
  },
  {
   "cell_type": "code",
   "execution_count": 4,
   "metadata": {},
   "outputs": [],
   "source": [
    "def lognorm(sigma):\n",
    "    z = np.random.normal(0, sigma)\n",
    "    return np.exp(z)"
   ]
  },
  {
   "cell_type": "code",
   "execution_count": 5,
   "metadata": {},
   "outputs": [],
   "source": [
    "def sim(power, max_t=10):\n",
    "    t = np.arange(0, max_t, dt)\n",
    "    x, v, a, p = np.zeros_like(t), np.zeros_like(t), np.zeros_like(t), np.zeros_like(t)\n",
    "\n",
    "    for i in range(t.size):\n",
    "        if i == 0:\n",
    "            x[i] = 0\n",
    "            v[i] = 0\n",
    "            a[i] = 0\n",
    "        else:\n",
    "            x[i] = x[i - 1] + v[i - 1] * dt\n",
    "            v[i] = v[i - 1] + a[i - 1] * dt\n",
    "\n",
    "            p[i] = power(t[i], x[i - 1], v[i - 1], a[i - 1])\n",
    "            p[i] = min(max(p[i], -1), 1)\n",
    "\n",
    "            back_emf = -max_accel * v[i - 1] / max_speed\n",
    "            ad = p[i] * max_accel + back_emf\n",
    "            d = -drag * sign(v[i])\n",
    "\n",
    "            stopped = sign(v[i - 1]) * sign(v[i]) != 1\n",
    "            if stopped and abs(ad) < abs(drag):\n",
    "                a[i] = 0\n",
    "                v[i] = 0\n",
    "            else:\n",
    "                err = lognorm(noise * np.sqrt(dt))\n",
    "                a[i] = (ad + d) * err\n",
    "\n",
    "    return t, x, v, a, p"
   ]
  },
  {
   "cell_type": "code",
   "execution_count": 6,
   "metadata": {},
   "outputs": [],
   "source": [
    "def plot_curves(all_arrays):\n",
    "    t, x, v, a, p = all_arrays\n",
    "    plt.figure(figsize=(20, 12))\n",
    "    plt.subplot(411)\n",
    "    plt.hlines(tgt_x, t.min(), t.max(), colors='orange')\n",
    "    plt.plot(t, x, label='x')\n",
    "    plt.legend()\n",
    "    plt.subplot(412)\n",
    "    plt.plot(t, v, label='v')\n",
    "    plt.legend()\n",
    "    plt.subplot(413)\n",
    "    plt.plot(t, a, label='a')\n",
    "    plt.legend()\n",
    "    plt.subplot(414)\n",
    "    plt.plot(t, p, label='p')\n",
    "    plt.legend()\n",
    "    plt.show()"
   ]
  },
  {
   "cell_type": "code",
   "execution_count": null,
   "metadata": {},
   "outputs": [],
   "source": [
    "# determine ks and kv\n",
    "trial_pow = np.linspace(0, 0.25, 10)\n",
    "term_vel = np.ones_like(trial_pow)\n",
    "for i in range(trial_pow.size):\n",
    "    ac = sim(lambda *args: trial_pow[i])\n",
    "    t, x, v, a, p = ac\n",
    "    term_vel[i] = v[-1]\n",
    "\n",
    "print(repr(trial_pow))\n",
    "print(repr(term_vel))\n",
    "\n",
    "m = term_vel > 0.5\n",
    "kv, ks = np.polyfit(term_vel[m], trial_pow[m], 1)"
   ]
  },
  {
   "cell_type": "code",
   "execution_count": null,
   "metadata": {},
   "outputs": [],
   "source": [
    "v = np.array([1,2,3])\n",
    "p = kv*v + ks\n",
    "plt.plot(trial_pow, term_vel, '.', label='sim')\n",
    "plt.plot(p, v, '.', label='fit')\n",
    "plt.legend()\n",
    "plt.show()"
   ]
  },
  {
   "cell_type": "code",
   "execution_count": 23,
   "metadata": {},
   "outputs": [],
   "source": [
    "class Point:\n",
    "    def __init__(self, x, y):\n",
    "        self.x = x\n",
    "        self.y = y\n",
    "\n",
    "\n",
    "class FuncGuesser:\n",
    "    def __init__(self, y_obj, y_tol, verbose=False):\n",
    "        self.p0 = self.p1 = self.pr = None\n",
    "        self.y_obj = y_obj\n",
    "        self.y_tol = y_tol\n",
    "\n",
    "        self.verbose = verbose\n",
    "    \n",
    "    def eval(self, x, y):\n",
    "        if self.verbose:\n",
    "            print(f'eval({x}) = {y}')\n",
    "\n",
    "        p = Point(x, y)\n",
    "        if abs(p.y - self.y_obj) < self.y_tol:\n",
    "            self.pr = p\n",
    "        elif self.p0 is None:\n",
    "            self.p0 = p\n",
    "        elif self.p1 is None:\n",
    "            self.p1 = p\n",
    "        else:\n",
    "            if sign(y - self.y_obj) != sign(self.p0.y - self.y_obj):\n",
    "                self.p1 = p\n",
    "            elif sign(y - self.y_obj) != sign(self.p1.y - self.y_obj):\n",
    "                self.p0 = p\n",
    "            else:\n",
    "                raise Exception('error bracketing zero')\n",
    "\n",
    "\n",
    "    def has_result(self):\n",
    "        return self.pr is not None\n",
    "    \n",
    "\n",
    "    def result(self):\n",
    "        return self.pr\n",
    "\n",
    "\n",
    "    def guess(self):\n",
    "        if self.p0 is not None and self.p1 is not None:\n",
    "            return (self.p0.x + self.p1.x) / 2\n",
    "        else:\n",
    "            raise Exception('need to evaluate 2 starting endpoints')"
   ]
  },
  {
   "cell_type": "code",
   "execution_count": null,
   "metadata": {},
   "outputs": [],
   "source": [
    "from math import sin\n",
    "\n",
    "fg = FuncGuesser(0.7, 1e-6, True)\n",
    "\n",
    "def f(x): return sin(x)\n",
    "\n",
    "fg.eval(0, f(0))\n",
    "fg.eval(3, f(3))\n",
    "\n",
    "while not fg.has_result():\n",
    "    x = fg.guess()\n",
    "    y = f(x)\n",
    "    fg.eval(x, y)\n",
    "\n",
    "fg.result"
   ]
  },
  {
   "cell_type": "code",
   "execution_count": null,
   "metadata": {},
   "outputs": [],
   "source": [
    "# determine ka\n",
    "def ka_trial(ka, max_t):\n"
   ]
  },
  {
   "cell_type": "code",
   "execution_count": null,
   "metadata": {},
   "outputs": [],
   "source": [
    "extra_pow = np.linspace(0, 0.5, 20)\n",
    "mean_accel = np.ones_like(extra_pow)\n",
    "\n",
    "for i in range(extra_pow.size):\n",
    "    ac = sim(lambda t, x, v, a: ks + kv * v + extra_pow[i])\n",
    "    t, x, v, a, p = ac\n",
    "    m = (0 < p) & (p < 1)\n",
    "    mean_accel[i] = a[m].mean()\n",
    "\n",
    "print(repr(extra_pow))\n",
    "print(repr(mean_accel))\n",
    "\n",
    "plt.plot(extra_pow, mean_accel, '.')\n",
    "fit = np.polyfit(mean_accel, extra_pow, 1)\n",
    "assert abs(fit[1]) < 1e-3\n",
    "ka = fit[0]"
   ]
  },
  {
   "cell_type": "code",
   "execution_count": 10,
   "metadata": {},
   "outputs": [],
   "source": [
    "# eks = ks * lognorm(0.02)\n",
    "# ekv = kv * lognorm(0.02)\n",
    "# eka = ka * lognorm(0.03)"
   ]
  },
  {
   "cell_type": "code",
   "execution_count": null,
   "metadata": {},
   "outputs": [],
   "source": [
    "ac = sim(lambda t, x, v, a: -ks + kv * v + ka * -2)\n",
    "plot_curves(ac)"
   ]
  },
  {
   "cell_type": "code",
   "execution_count": 12,
   "metadata": {},
   "outputs": [],
   "source": [
    "back_emf = 1 / (ka * max_speed)\n",
    "drag = ks / ka"
   ]
  },
  {
   "cell_type": "markdown",
   "metadata": {},
   "source": [
    "With $a=-k_v$ and $b=-k_s$:\n",
    "$$v' = a v +b$$\n",
    "$$v = c \\exp(a t) - b / a$$\n",
    "$$v'=ac \\exp(a t)$$\n",
    "$$ av + b = a(c \\exp(a t) - b / a) + b$$\n",
    "\n",
    "Solve for $c$:\n",
    "$$v(0)=c\\exp(0)-b/a$$\n",
    "$$c=v(0)+b/a$$\n",
    "\n",
    "Solve for $x$ stopping at $t$\n",
    "$$0=c \\exp(a t) - b/a$$\n",
    "$$t=\\frac1{a}\\log\\left(\\frac{b}{ac}\\right)$$\n",
    "$$\\int_0^t v(s)\\ ds = \\int_0^t c \\exp(a t) - b / a\\ dt = \\frac{c \\exp(a t) - bt}a$$\n"
   ]
  },
  {
   "cell_type": "code",
   "execution_count": null,
   "metadata": {},
   "outputs": [],
   "source": []
  },
  {
   "cell_type": "code",
   "execution_count": 13,
   "metadata": {},
   "outputs": [],
   "source": [
    "def est_const_power_stopping_point(t0, x0, v0, stopping_power_pct):\n",
    "    s = sign(v0)\n",
    "    if s == 0:\n",
    "        return t0, x0\n",
    "\n",
    "    a, b = -1 / (ka * max_speed), -1 * (ks + stopping_power_pct) / ka\n",
    "    c = s * v0 + b/a\n",
    "    t = log(b / (a * c)) / a # when coasting will stop\n",
    "    d = (c * exp(a * t) - c - b * t) / a # where coasting will stop\n",
    "    return t0 + t, x0 + s * d"
   ]
  },
  {
   "cell_type": "code",
   "execution_count": null,
   "metadata": {},
   "outputs": [],
   "source": [
    "stopping_power_pct = 1\n",
    "xest = None\n",
    "\n",
    "\n",
    "def f(t, x, v, a):\n",
    "    global xest\n",
    "    if t < 1.5:\n",
    "        _, xest = est_const_power_stopping_point(t, x, v, stopping_power_pct)\n",
    "        return 1\n",
    "    elif abs(v) > 0.1:\n",
    "        return -sign(v) * stopping_power_pct\n",
    "    else:\n",
    "        return 0\n",
    "\n",
    "\n",
    "ac = sim(f)\n",
    "tsim, xsim, _, _, _ = ac\n",
    "print(f'est: {xest:.2f} ~ sim: {xsim[-1]:.2f}')\n",
    "assert abs(xsim[-1] - xest) < 0.1"
   ]
  },
  {
   "cell_type": "code",
   "execution_count": 15,
   "metadata": {},
   "outputs": [],
   "source": [
    "stop_vtol = 0.1\n",
    "stop_xtol = 0.5\n",
    "stop_ttol = 0.1\n",
    "\n",
    "\n",
    "def stopped(v):\n",
    "    return abs(v) < stop_vtol\n",
    "\n",
    "\n",
    "def est_const_deccel_stopping_point(x, v, a_mag):\n",
    "    if stopped(v):\n",
    "        return 0\n",
    "    \n",
    "    a = -sign(v) * a_mag\n",
    "    d = -v * v / (2 * a)\n",
    "    return d + x"
   ]
  },
  {
   "cell_type": "code",
   "execution_count": 16,
   "metadata": {},
   "outputs": [],
   "source": [
    "# def direction_test(a, b, atol, btol, test):\n",
    "#     if abs(a) < atol:\n",
    "#         a = 0\n",
    "    \n",
    "#     if abs(b) < btol:\n",
    "#         b = 0\n",
    "\n",
    "#     return sign(a) * sign(b) == test"
   ]
  },
  {
   "cell_type": "code",
   "execution_count": null,
   "metadata": {},
   "outputs": [],
   "source": [
    "nom_accel = 10\n",
    "astop0 = 10.5\n",
    "astop1 = 9\n",
    "max_jerk = 100\n",
    "\n",
    "\n",
    "def update_accel(a0, a1, dt):\n",
    "    min_a, max_a = a0 - max_jerk * dt, a0 + max_jerk * dt\n",
    "    next_a = min(max(a1, min_a), max_a)\n",
    "    return next_a\n",
    "\n",
    "\n",
    "prev_t = 0\n",
    "def f(t, x, v, a):\n",
    "    global prev_t\n",
    "    dt = t - prev_t\n",
    "\n",
    "    d = tgt_x - x\n",
    "\n",
    "    xstop0 = est_const_deccel_stopping_point(x, v, astop0)\n",
    "    xstop1 = est_const_deccel_stopping_point(x, v, astop1)\n",
    "    xstop0, xstop1 = min(xstop0, xstop1), max(xstop0, xstop1)\n",
    "\n",
    "    tcoast, xcoast = est_const_power_stopping_point(t, x, v, 0)\n",
    "\n",
    "    if abs(xcoast - tgt_x) < stop_xtol and tcoast - t < stop_ttol:\n",
    "        next_a = 0\n",
    "        clip_a = False\n",
    "    elif xstop0 < tgt_x < xstop1:\n",
    "        next_a = -v * v / (2 * d)\n",
    "        clip_a = True\n",
    "    else:\n",
    "        next_a = sign(d) * nom_accel\n",
    "        clip_a = True\n",
    "\n",
    "    if clip_a:\n",
    "        next_a = update_accel(a, next_a, dt)\n",
    "\n",
    "    s = sign(v) if not stopped(v) else sign(d)\n",
    "    p = ka * next_a + kv * v + ks * s\n",
    "\n",
    "    prev_t = t\n",
    "\n",
    "    return p\n",
    "\n",
    "\n",
    "ac = sim(f)\n",
    "tp, xp, vp, ap, pp = ac\n",
    "plot_curves(ac)"
   ]
  },
  {
   "cell_type": "code",
   "execution_count": null,
   "metadata": {},
   "outputs": [],
   "source": [
    "from subprocess import Popen, PIPE\n",
    "with Popen(['java.exe', 'Pid.java'], stdin=PIPE, stdout=PIPE, text=True) as proc:\n",
    "    def j(t, x, v, a):\n",
    "        proc.stdin.write(f'{t} {x} {v} {a}\\n')\n",
    "        proc.stdin.flush()\n",
    "        s = proc.stdout.readline().strip()\n",
    "        return float(s)\n",
    "\n",
    "    ac = sim(j)    \n",
    "\n",
    "tj, xj, vj, aj, pj = ac\n",
    "plot_curves(ac)    "
   ]
  },
  {
   "cell_type": "code",
   "execution_count": null,
   "metadata": {},
   "outputs": [],
   "source": []
  }
 ],
 "metadata": {
  "kernelspec": {
   "display_name": "Python 3",
   "language": "python",
   "name": "python3"
  },
  "language_info": {
   "codemirror_mode": {
    "name": "ipython",
    "version": 3
   },
   "file_extension": ".py",
   "mimetype": "text/x-python",
   "name": "python",
   "nbconvert_exporter": "python",
   "pygments_lexer": "ipython3",
   "version": "3.12.7"
  }
 },
 "nbformat": 4,
 "nbformat_minor": 2
}
