{
 "cells": [
  {
   "cell_type": "code",
   "execution_count": null,
   "metadata": {},
   "outputs": [],
   "source": [
    "from math import exp, log, sqrt\n",
    "import numpy as np\n",
    "import pandas as pd\n",
    "import matplotlib.pyplot as plt\n",
    "import scipy.optimize as opt\n",
    "\n",
    "from linear_motion_sim import Simulator, fit_ks_and_kv, fit_ka\n",
    "from func_guesser import sign"
   ]
  },
  {
   "cell_type": "code",
   "execution_count": null,
   "metadata": {},
   "outputs": [],
   "source": [
    "sim = Simulator(max_speed=20, max_accel=12, drag=0.8, noise=0.2)"
   ]
  },
  {
   "cell_type": "code",
   "execution_count": null,
   "metadata": {},
   "outputs": [],
   "source": [
    "ks, kv = fit_ks_and_kv(sim)\n",
    "ka = fit_ka(sim, ks, kv)"
   ]
  },
  {
   "cell_type": "code",
   "execution_count": null,
   "metadata": {},
   "outputs": [],
   "source": [
    "ac = sim.sim(lambda t, x, v, a: -ks + kv * v + ka * -2)\n",
    "sim.plot_curves(ac)"
   ]
  },
  {
   "cell_type": "code",
   "execution_count": null,
   "metadata": {},
   "outputs": [],
   "source": [
    "tgt_x = -60\n",
    "tgt_v = 0\n",
    "\n",
    "vtol = 0.1\n",
    "xtol = 0.5\n",
    "ttol = 0.1"
   ]
  },
  {
   "cell_type": "code",
   "execution_count": null,
   "metadata": {},
   "outputs": [],
   "source": [
    "def ratelimit(x1, t1, x0, t0, v):\n",
    "    dt = t1 - t0\n",
    "    up = x0 + v * dt\n",
    "    dn = x0 - v * dt\n",
    "    return min(max(x1, dn), up)"
   ]
  },
  {
   "cell_type": "code",
   "execution_count": null,
   "metadata": {},
   "outputs": [],
   "source": [
    "class Drive:\n",
    "    def __init__(self, alimit, vlimit, max_jerk):\n",
    "        self.alimit = alimit\n",
    "        self.vlimit = vlimit\n",
    "        self.done = False\n",
    "        self.max_jerk = max_jerk\n",
    "        self.prev_t = 0\n",
    "\n",
    "\n",
    "    def drive_power(self, t, x, v, a):\n",
    "        if self.done:\n",
    "            return 0.05 * np.random.normal()\n",
    "\n",
    "        if abs(x - tgt_x) < xtol and abs(v - tgt_v) < vtol:\n",
    "            self.done = True\n",
    "            return 0\n",
    "        \n",
    "        dist = tgt_x - x\n",
    "        v0 = sqrt(2 * self.alimit * abs(dist))\n",
    "        v1 = sign(dist) * min(v0, self.vlimit)\n",
    "        \n",
    "        if abs(v1 - v) < vtol:\n",
    "            a0 = 0\n",
    "        else:\n",
    "            a0 = self.alimit * sign(v1 - v)\n",
    "\n",
    "        dt = t - self.prev_t\n",
    "        self.prev_t = t\n",
    "        \n",
    "        a1 = ratelimit(a0, t, a, self.prev_t, self.max_jerk)\n",
    "        self.prev_t = t\n",
    "        print(f'{a0:.4f} {a1:.4f}')\n",
    "        \n",
    "        return ks + kv * v + ka * a1"
   ]
  },
  {
   "cell_type": "code",
   "execution_count": null,
   "metadata": {},
   "outputs": [],
   "source": [
    "d = Drive(alimit=8, vlimit=12, max_jerk=700)\n",
    "ac = sim.sim(d.drive_power, max_t=15)\n",
    "sim.plot_curves(ac, tgt_x=tgt_x)"
   ]
  },
  {
   "cell_type": "code",
   "execution_count": null,
   "metadata": {},
   "outputs": [],
   "source": []
  }
 ],
 "metadata": {
  "kernelspec": {
   "display_name": "Python 3",
   "language": "python",
   "name": "python3"
  },
  "language_info": {
   "codemirror_mode": {
    "name": "ipython",
    "version": 3
   },
   "file_extension": ".py",
   "mimetype": "text/x-python",
   "name": "python",
   "nbconvert_exporter": "python",
   "pygments_lexer": "ipython3",
   "version": "3.12.9"
  }
 },
 "nbformat": 4,
 "nbformat_minor": 2
}
