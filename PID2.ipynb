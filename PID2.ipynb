{
 "cells": [
  {
   "cell_type": "code",
   "execution_count": null,
   "metadata": {},
   "outputs": [],
   "source": [
    "from math import exp, log, sqrt\n",
    "import numpy as np\n",
    "import pandas as pd\n",
    "import matplotlib.pyplot as plt\n",
    "import scipy.optimize as opt\n",
    "\n",
    "from linear_motion_sim import Simulator, fit_ks_and_kv, fit_ka, lognorm\n",
    "from func_guesser import sign"
   ]
  },
  {
   "cell_type": "code",
   "execution_count": null,
   "metadata": {},
   "outputs": [],
   "source": [
    "sim = Simulator(max_speed=20, max_accel=12, drag=0.8, noise=0.2)"
   ]
  },
  {
   "cell_type": "code",
   "execution_count": null,
   "metadata": {},
   "outputs": [],
   "source": [
    "ks, kv = fit_ks_and_kv(sim)\n",
    "ka = fit_ka(sim, ks, kv)"
   ]
  },
  {
   "cell_type": "code",
   "execution_count": null,
   "metadata": {},
   "outputs": [],
   "source": [
    "ks *= lognorm(0.05)\n",
    "kv *= lognorm(0.05)\n",
    "ka *= lognorm(0.1)"
   ]
  },
  {
   "cell_type": "code",
   "execution_count": null,
   "metadata": {},
   "outputs": [],
   "source": [
    "ac = sim.sim(lambda t, x, v, a: -ks + kv * v + ka * -2)\n",
    "sim.plot_curves(ac)"
   ]
  },
  {
   "cell_type": "code",
   "execution_count": null,
   "metadata": {},
   "outputs": [],
   "source": [
    "vtol = 0.1\n",
    "xtol = 0.5\n",
    "ttol = 0.1"
   ]
  },
  {
   "cell_type": "code",
   "execution_count": null,
   "metadata": {},
   "outputs": [],
   "source": [
    "def ratelimit(x1, t1, x0, t0, v):\n",
    "    dt = t1 - t0\n",
    "    up = x0 + v * dt\n",
    "    dn = x0 - v * dt\n",
    "    return min(max(x1, dn), up)"
   ]
  },
  {
   "cell_type": "code",
   "execution_count": null,
   "metadata": {},
   "outputs": [],
   "source": [
    "def smaller_mag(x, y):\n",
    "    if abs(x) < abs(y):\n",
    "        return x\n",
    "    else:\n",
    "        return y"
   ]
  },
  {
   "cell_type": "code",
   "execution_count": null,
   "metadata": {},
   "outputs": [],
   "source": [
    "def clip_mag(x, max_mag):\n",
    "    return x if abs(x) < max_mag else max_mag * sign(x)"
   ]
  },
  {
   "cell_type": "markdown",
   "metadata": {},
   "source": [
    "\\begin{align}\n",
    "a&=\\text{constant}\\\\\n",
    "v(t) &= at + v_0\\\\\n",
    "x(t) &= \\tfrac 12 at^2 +v_0t\n",
    "\\end{align}\n",
    "\n",
    "Solve for the missing boundary condition $v_0$ given the others.\n",
    "\\begin{align}\n",
    "    x(0) &= 0\\\\\n",
    "    x(t_d) &= d\\\\\n",
    "    v(t_d) &= \\text{constant}\n",
    "\\end{align}\n",
    "Eliminate $t_d$\n",
    "\\begin{align}\n",
    "    0 &= \\tfrac 12 at_d^2 +v_0t_d-d \\\\\n",
    "    t_d &= \\frac{-v_0 \\pm \\sqrt{v_0^2 + 2 a d}}{a}\n",
    "\\end{align}\n",
    "Also,\n",
    "\\begin{align}\n",
    "    t_d &= \\frac{v_d - v_0}{a}\\\\\n",
    "    v_d - v_0 &= -v_0 \\pm \\sqrt{v_0^2 + 2 a d}\\\\\n",
    "    v_d^2 &= v_0^2 + 2 a d\\\\\n",
    "    v_0 &= \\sqrt{v_d^2 - 2 a d}\n",
    "\\end{align}\n"
   ]
  },
  {
   "cell_type": "code",
   "execution_count": null,
   "metadata": {},
   "outputs": [],
   "source": [
    "class Drive:\n",
    "    def __init__(self,  \n",
    "                 tgt_x,\n",
    "                 tgt_v,\n",
    "                 alimit_frac, \n",
    "                 vlimit):\n",
    "        if sign(tgt_x) != sign(tgt_v):\n",
    "            tgt_v = 0\n",
    "\n",
    "        if alimit_frac < 0 or 1 < alimit_frac:\n",
    "            raise Exception('alimit_frac should be in [0,1]')\n",
    "\n",
    "        self.tgt_x = tgt_x\n",
    "        self.tgt_v = tgt_v\n",
    "        self.alimit = alimit_frac / ka\n",
    "        self.vlimit = vlimit\n",
    "        self.done_t = -1\n",
    "        self.prev_t = 0\n",
    "\n",
    "\n",
    "    def drive_power(self, t, x, v, a):\n",
    "        if self.done_t >= 0:\n",
    "            return 0\n",
    "\n",
    "        if abs(x - self.tgt_x) < xtol and abs(v - self.tgt_v) < vtol:\n",
    "            self.done_t = t\n",
    "            return 0\n",
    "        \n",
    "        dist = self.tgt_x - x\n",
    "        s = sign(dist)\n",
    "        a0 = -s * self.alimit\n",
    "\n",
    "        vd = self.tgt_v\n",
    "        z = vd**2 - 2 * a0 * dist\n",
    "        if z > 0:\n",
    "            v0 = s * sqrt(z)\n",
    "        else:\n",
    "            # should not happen\n",
    "            v0 = s * self.vlimit\n",
    "        \n",
    "        v1 = clip_mag(v0, self.vlimit)\n",
    "\n",
    "        dt = t - self.prev_t\n",
    "        \n",
    "        next_a = clip_mag((v1 - v) / dt / 1.2, self.alimit)\n",
    " \n",
    "        p = ks * s + kv * v + ka * next_a\n",
    "\n",
    "        self.prev_t = t\n",
    "\n",
    "        return p"
   ]
  },
  {
   "cell_type": "code",
   "execution_count": null,
   "metadata": {},
   "outputs": [],
   "source": [
    "d = Drive(tgt_x=30, tgt_v=4, alimit_frac=0.8, vlimit=12)\n",
    "ac = sim.sim(d.drive_power, max_t=10, v_init=0)\n",
    "sim.plot_curves(ac, tgt_x=d.tgt_x)"
   ]
  },
  {
   "cell_type": "code",
   "execution_count": null,
   "metadata": {},
   "outputs": [],
   "source": [
    "t, x, v, a, p = ac\n",
    "i = t.searchsorted(d.done_t)\n",
    "print(f'{x[i]} {v[i]}')"
   ]
  },
  {
   "cell_type": "code",
   "execution_count": null,
   "metadata": {},
   "outputs": [],
   "source": []
  }
 ],
 "metadata": {
  "kernelspec": {
   "display_name": "base",
   "language": "python",
   "name": "python3"
  },
  "language_info": {
   "codemirror_mode": {
    "name": "ipython",
    "version": 3
   },
   "file_extension": ".py",
   "mimetype": "text/x-python",
   "name": "python",
   "nbconvert_exporter": "python",
   "pygments_lexer": "ipython3",
   "version": "3.12.9"
  }
 },
 "nbformat": 4,
 "nbformat_minor": 2
}
