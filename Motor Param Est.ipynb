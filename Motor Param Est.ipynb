{
 "cells": [
  {
   "cell_type": "code",
   "execution_count": 1,
   "metadata": {},
   "outputs": [],
   "source": [
    "import pandas as pd\n",
    "import numpy as np\n",
    "import matplotlib.pyplot as plt"
   ]
  },
  {
   "cell_type": "code",
   "execution_count": 2,
   "metadata": {},
   "outputs": [],
   "source": [
    "trial_pow = np.array([0.        , 0.02777778, 0.05555556, 0.08333333, 0.11111111,\n",
    "       0.13888889, 0.16666667, 0.19444444, 0.22222222, 0.25      ])\n",
    "term_vel = np.array([0.        , 0.        , 0.        , 0.33158071, 0.88578202,\n",
    "       1.43997753, 1.99418345, 2.54836962, 3.10256012, 3.65677588])\n",
    "\n",
    "extra_pow = np.array([0.        , 0.02631579, 0.05263158, 0.07894737, 0.10526316,\n",
    "       0.13157895, 0.15789474, 0.18421053, 0.21052632, 0.23684211,\n",
    "       0.26315789, 0.28947368, 0.31578947, 0.34210526, 0.36842105,\n",
    "       0.39473684, 0.42105263, 0.44736842, 0.47368421, 0.5       ])\n",
    "mean_accel = np.array([0.        , 0.31834369, 0.63654605, 0.95474691, 1.27300043,\n",
    "       1.59117483, 1.90632476, 2.22189423, 2.53740998, 2.85350751,\n",
    "       3.16757882, 3.48308904, 3.79973438, 4.11394634, 4.42956168,\n",
    "       4.74832848, 5.06304778, 5.3768826 , 5.69072396, 6.01028537])"
   ]
  },
  {
   "cell_type": "code",
   "execution_count": null,
   "metadata": {},
   "outputs": [],
   "source": [
    "plt.figure(figsize=(8, 4))\n",
    "plt.plot(trial_pow, term_vel, '.')\n",
    "plt.show()"
   ]
  },
  {
   "cell_type": "code",
   "execution_count": null,
   "metadata": {},
   "outputs": [],
   "source": [
    "plt.figure(figsize=(8, 4))\n",
    "plt.plot(extra_pow, mean_accel, '.')\n",
    "plt.show()"
   ]
  },
  {
   "cell_type": "code",
   "execution_count": 5,
   "metadata": {},
   "outputs": [],
   "source": [
    "m = term_vel > 0.5\n",
    "kv, ks = np.polyfit(term_vel[m], trial_pow[m], 1)"
   ]
  },
  {
   "cell_type": "code",
   "execution_count": 6,
   "metadata": {},
   "outputs": [],
   "source": [
    "fit = np.polyfit(mean_accel, extra_pow, 1)\n",
    "assert abs(fit[1]) < 1e-3\n",
    "ka = fit[0]"
   ]
  },
  {
   "cell_type": "code",
   "execution_count": null,
   "metadata": {},
   "outputs": [],
   "source": [
    "print(f'ks = {ks:.6f}')\n",
    "print(f'kv = {kv:.6f}')\n",
    "print(f'ka = {ka:.6f}')"
   ]
  }
 ],
 "metadata": {
  "kernelspec": {
   "display_name": "Python 3",
   "language": "python",
   "name": "python3"
  },
  "language_info": {
   "codemirror_mode": {
    "name": "ipython",
    "version": 3
   },
   "file_extension": ".py",
   "mimetype": "text/x-python",
   "name": "python",
   "nbconvert_exporter": "python",
   "pygments_lexer": "ipython3",
   "version": "3.12.7"
  }
 },
 "nbformat": 4,
 "nbformat_minor": 2
}
