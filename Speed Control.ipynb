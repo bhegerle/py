{
 "cells": [
  {
   "cell_type": "code",
   "execution_count": null,
   "metadata": {},
   "outputs": [],
   "source": [
    "from math import exp, log, sqrt\n",
    "import numpy as np\n",
    "import pandas as pd\n",
    "import matplotlib.pyplot as plt\n",
    "import scipy.optimize as opt\n",
    "\n",
    "from regress import plot_fit\n",
    "\n",
    "from linear_motion_sim import Simulator, fit_ks_and_kv, fit_ka, lognorm\n",
    "from func_guesser import sign"
   ]
  },
  {
   "cell_type": "code",
   "execution_count": null,
   "metadata": {},
   "outputs": [],
   "source": [
    "tgt_v = 2"
   ]
  },
  {
   "cell_type": "code",
   "execution_count": null,
   "metadata": {},
   "outputs": [],
   "source": [
    "def s(t):\n",
    "    return 20\n",
    "\n",
    "def a(t):\n",
    "    return 22\n",
    "\n",
    "def d(t):\n",
    "    return 0.8\n",
    "\n",
    "sim = Simulator(max_speed_f=s, max_accel_f=a, drag_f=d, noise=0.2)"
   ]
  },
  {
   "cell_type": "code",
   "execution_count": null,
   "metadata": {},
   "outputs": [],
   "source": [
    "class Speedometer:\n",
    "    def __init__(self, num_samples):\n",
    "        self.num_samples = num_samples\n",
    "        self.t = []\n",
    "        self.x = []\n",
    "\n",
    "\n",
    "    def sample(self, t, x):\n",
    "        while len(self.t) >= self.num_samples:\n",
    "            del self.t[0]\n",
    "\n",
    "        while len(self.x) >= self.num_samples:\n",
    "            del self.x[0]\n",
    "\n",
    "        self.t.append(t)\n",
    "        self.x.append(x)\n",
    "\n",
    "    def has_speed(self):\n",
    "        return len(self.t) > 2\n",
    "\n",
    "\n",
    "    def speed(self):\n",
    "        if len(self.t) < 2:\n",
    "            return 0\n",
    "        \n",
    "        return np.polyfit(self.t, self.x, 1)[0]"
   ]
  },
  {
   "cell_type": "code",
   "execution_count": null,
   "metadata": {},
   "outputs": [],
   "source": [
    "class IntervalTimer:\n",
    "    def __init__(self, interval):\n",
    "        self.interval = interval\n",
    "        self.last = -1e99\n",
    "\n",
    "\n",
    "    def past_interval(self, t):\n",
    "        if t - self.last > self.interval:\n",
    "            self.last = t\n",
    "            return True\n",
    "        else:\n",
    "            return False"
   ]
  },
  {
   "cell_type": "code",
   "execution_count": null,
   "metadata": {},
   "outputs": [],
   "source": [
    "sped = Speedometer(5)\n",
    "accel = Speedometer(5)\n",
    "ival = IntervalTimer(0.05)\n",
    "\n",
    "tlist, plist, xlist = [], [], []\n",
    "# pest = ParamEstimator(5)\n",
    "\n",
    "powr = 0.1\n",
    "\n",
    "def motor_power(t, x):\n",
    "    powr = 0.1 + t / 30\n",
    "\n",
    "    tlist.append(t)\n",
    "    plist.append(powr)\n",
    "    xlist.append(x)\n",
    "    return powr"
   ]
  },
  {
   "cell_type": "code",
   "execution_count": null,
   "metadata": {},
   "outputs": [],
   "source": [
    "t, x, v, a, p  = sim.sim(motor_power)\n",
    "vt = np.ones_like(t) * tgt_v\n",
    "\n",
    "plt.figure(figsize=(20, 6))\n",
    "plt.plot(t, v)\n",
    "plt.plot(t, vt, '--')\n",
    "plt.show()\n"
   ]
  },
  {
   "cell_type": "code",
   "execution_count": null,
   "metadata": {},
   "outputs": [],
   "source": []
  },
  {
   "cell_type": "code",
   "execution_count": null,
   "metadata": {},
   "outputs": [],
   "source": [
    "class ParamEstimator:\n",
    "    def __init__(self, samp_window_size):\n",
    "        assert samp_window_size % 2 == 1\n",
    "        self.samp_window_size = samp_window_size\n",
    "        self.t = []\n",
    "        self.p = []\n",
    "        self.x = []\n",
    "\n",
    "\n",
    "    def sample(self, t, p, x):\n",
    "        self.t.append(t)\n",
    "        self.p.append(p)\n",
    "        self.x.append(x)\n",
    "\n",
    "\n",
    "    def estimate(self):\n",
    "        assert len(self.t) > self.samp_window_size"
   ]
  },
  {
   "cell_type": "code",
   "execution_count": null,
   "metadata": {},
   "outputs": [],
   "source": [
    "pest = ParamEstimator(5)\n",
    "for i in range(800):\n",
    "    pest.sample(tlist[i], plist[i], xlist[i])"
   ]
  },
  {
   "cell_type": "code",
   "execution_count": null,
   "metadata": {},
   "outputs": [],
   "source": [
    "x = np.array([1, 1.5, 3])\n",
    "y = 3*x**2 + 2.1*x+5\n",
    "np.polyfit(x,y,2)"
   ]
  },
  {
   "cell_type": "code",
   "execution_count": null,
   "metadata": {},
   "outputs": [],
   "source": [
    "def pow_vel_accel(t, p, x):\n",
    "    i = t.size // 2\n",
    "    a2, a1, _ = np.polyfit(t, x, 2)\n",
    "    v = 2 * a2 * t[i] + a1\n",
    "    a = 2 * a2\n",
    "    return p[i], v, a"
   ]
  },
  {
   "cell_type": "code",
   "execution_count": null,
   "metadata": {},
   "outputs": [],
   "source": [
    "self = pest\n",
    "t = np.array(self.t)\n",
    "x = np.array(self.x)\n",
    "p = np.array(self.p)\n",
    "\n",
    "m = (0.1 < p)&(p < 0.2)\n",
    "t = t[m]\n",
    "x = x[m]\n",
    "p = p[m]\n",
    "\n",
    "w = self.samp_window_size\n",
    "n = t.size - w + 1\n",
    "\n",
    "pva = np.empty((n, 3))\n",
    "for i in range(n):\n",
    "    pva[i] = pow_vel_accel(t[i:i + w], p[i:i + w], x[i:i + w])"
   ]
  },
  {
   "cell_type": "code",
   "execution_count": null,
   "metadata": {},
   "outputs": [],
   "source": [
    "pow_vel_1 = np.empty((n, 3))\n",
    "pow_vel_1 = pva.copy()\n",
    "pow_vel_1[:, 2] = 1\n",
    "accel = pva[:, 2]"
   ]
  },
  {
   "cell_type": "code",
   "execution_count": null,
   "metadata": {},
   "outputs": [],
   "source": [
    "x, resid, rank, _ = np.linalg.lstsq(pow_vel_1, accel)\n",
    "x"
   ]
  },
  {
   "cell_type": "code",
   "execution_count": null,
   "metadata": {},
   "outputs": [],
   "source": [
    "df = pd.DataFrame({\n",
    "    'p': pow_vel_1[:, 0],\n",
    "    'v': pow_vel_1[:, 1],\n",
    "    'a': accel\n",
    "})\n",
    "df.iloc[::5].to_clipboard()"
   ]
  },
  {
   "cell_type": "code",
   "execution_count": null,
   "metadata": {},
   "outputs": [],
   "source": [
    "expect = sim.max_accel_f(0), -sim.max_accel_f(0) / sim.max_speed_f(0), -sim.drag_f(0)\n",
    "expect"
   ]
  },
  {
   "cell_type": "code",
   "execution_count": null,
   "metadata": {},
   "outputs": [],
   "source": []
  }
 ],
 "metadata": {
  "kernelspec": {
   "display_name": ".venv (3.13.7)",
   "language": "python",
   "name": "python3"
  },
  "language_info": {
   "codemirror_mode": {
    "name": "ipython",
    "version": 3
   },
   "file_extension": ".py",
   "mimetype": "text/x-python",
   "name": "python",
   "nbconvert_exporter": "python",
   "pygments_lexer": "ipython3",
   "version": "3.13.7"
  }
 },
 "nbformat": 4,
 "nbformat_minor": 2
}
