{
 "cells": [
  {
   "cell_type": "code",
   "execution_count": null,
   "metadata": {},
   "outputs": [],
   "source": [
    "from math import exp, log, sqrt\n",
    "import numpy as np\n",
    "import pandas as pd\n",
    "import matplotlib.pyplot as plt\n",
    "import scipy.optimize as opt\n",
    "\n",
    "from _test.linear_motion_sim import Simulator, fit_ks_and_kv, fit_ka, lognorm\n",
    "from _test.func_guesser import sign"
   ]
  },
  {
   "cell_type": "code",
   "execution_count": null,
   "metadata": {},
   "outputs": [],
   "source": [
    "tgt_v = 2"
   ]
  },
  {
   "cell_type": "code",
   "execution_count": null,
   "metadata": {},
   "outputs": [],
   "source": [
    "def s(t):\n",
    "    return 20\n",
    "\n",
    "def a(t):\n",
    "    return 22\n",
    "\n",
    "def d(t):\n",
    "    if 3 < t < 3.1:\n",
    "        return 16\n",
    "    \n",
    "    return 0.8\n",
    "\n",
    "sim = Simulator(max_speed_f=s, max_accel_f=a, drag_f=d, noise=0.2)"
   ]
  },
  {
   "cell_type": "code",
   "execution_count": null,
   "metadata": {},
   "outputs": [],
   "source": [
    "class Speedometer:\n",
    "    def __init__(self, num_samples):\n",
    "        self.num_samples = num_samples\n",
    "        self.t = []\n",
    "        self.x = []\n",
    "\n",
    "\n",
    "    def sample(self, t, x):\n",
    "        while len(self.t) >= self.num_samples:\n",
    "            del self.t[0]\n",
    "\n",
    "        while len(self.x) >= self.num_samples:\n",
    "            del self.x[0]\n",
    "\n",
    "        self.t.append(t)\n",
    "        self.x.append(x)\n",
    "\n",
    "\n",
    "    def speed(self):\n",
    "        if len(self.t) < 2:\n",
    "            return 0\n",
    "        \n",
    "        return np.polyfit(self.t, self.x, 1)[0]\n",
    "        "
   ]
  },
  {
   "cell_type": "code",
   "execution_count": null,
   "metadata": {},
   "outputs": [],
   "source": [
    "sped = Speedometer(5)\n",
    "\n",
    "def motor_power(t, x):\n",
    "    sped.sample(t, x)\n",
    "    v = sped.speed()\n",
    "    return 0.2\n",
    "\n",
    "\n",
    "t, x, v, a, p  = sim.sim(motor_power)\n",
    "vt = np.ones_like(t) * tgt_v\n",
    "\n",
    "plt.figure(figsize=(20, 6))\n",
    "plt.plot(t, v)\n",
    "plt.plot(t, vt, '--')\n",
    "plt.show()\n"
   ]
  },
  {
   "cell_type": "code",
   "execution_count": null,
   "metadata": {},
   "outputs": [],
   "source": []
  }
 ],
 "metadata": {
  "kernelspec": {
   "display_name": ".venv (3.13.5)",
   "language": "python",
   "name": "python3"
  },
  "language_info": {
   "codemirror_mode": {
    "name": "ipython",
    "version": 3
   },
   "file_extension": ".py",
   "mimetype": "text/x-python",
   "name": "python",
   "nbconvert_exporter": "python",
   "pygments_lexer": "ipython3",
   "version": "3.13.5"
  }
 },
 "nbformat": 4,
 "nbformat_minor": 2
}
